{
  "cells": [
    {
      "cell_type": "markdown",
      "source": [
        "#QSVC - DGA Botnet detection\n",
        "\n",
        "Madjid Tehrani\n",
        "Cybersec-DMS (DMS GmbH)\n",
        "https://www.cybersec-dms.com/\n",
        "Copyright © 2023, DMS GmbH. All rights reserved. Permission is hereby granted, free of charge, to any person obtaining a copy of this\n",
        "software and associated documentation files (the \"Software\"), for academic research purposes, subject to the following conditions:\n",
        "the above copyright notice and this permission notice shall be included in all copies or substantial portions of the Software.   \n"
      ],
      "metadata": {
        "id": "opened-florist"
      },
      "id": "opened-florist"
    },
    {
      "cell_type": "markdown",
      "source": [
        "Let's generate some data:"
      ],
      "metadata": {
        "id": "thirty-painting"
      },
      "id": "thirty-painting"
    },
    {
      "cell_type": "code",
      "source": [
        "!pip install qiskit-machine-learning"
      ],
      "outputs": [],
      "execution_count": null,
      "metadata": {
        "jupyter": {
          "source_hidden": false,
          "outputs_hidden": false
        },
        "nteract": {
          "transient": {
            "deleting": false
          }
        },
        "id": "ebe91baa-564d-4ff0-8062-8b9a9589f83c"
      },
      "id": "ebe91baa-564d-4ff0-8062-8b9a9589f83c"
    },
    {
      "cell_type": "code",
      "source": [
        "from qiskit import QuantumCircuit\n",
        "from qiskit.visualization import plot_histogram\n",
        "from qiskit.tools.monitor import job_monitor\n",
        "from azure.quantum.qiskit import AzureQuantumProvider\n",
        "from qiskit import QuantumCircuit, execute, Aer\n",
        "from qiskit import *\n",
        "from qiskit.utils import QuantumInstance\n",
        "from azure.quantum import Workspace\n",
        "\n",
        "provider = AzureQuantumProvider (\n",
        "    resource_id = \"/subscriptions/yourID/resourceGroups/AzureQuantum/providers/Microsoft.Quantum/Workspaces/yourWorkspace\",\n",
        "    location = \"eastus\"\n",
        ")\n",
        "\n",
        "print(\"This workspace's targets:\")\n",
        "for backend in provider.backends():\n",
        "    print(\"- \" + backend.name())\n",
        "\n",
        "workspace = Workspace (\n",
        "    subscription_id = \"yourID\",\n",
        "    resource_group = \"AzureQuantum\",\n",
        "    name = \"yourWorkspace\",\n",
        "    location = \"eastus\"\n",
        "\n",
        ")"
      ],
      "metadata": {
        "id": "NNkaxJRppL7I"
      },
      "id": "NNkaxJRppL7I",
      "execution_count": null,
      "outputs": []
    },
    {
      "cell_type": "code",
      "source": [
        "# Create IonQ simulator and QPU backends\n",
        "ionq_simulator_backend = provider.get_backend(\"ionq.simulator\")\n",
        "ionq_qpu_backend = provider.get_backend(\"ionq.qpu\")\n",
        "\n",
        "# Create Rigetti simulator and QPU backends\n",
        "rigetti_simulator_backend = provider.get_backend(\"rigetti.sim.qvm\")\n",
        "rigetti_qpu_backend = provider.get_backend(\"rigetti.qpu.aspen-m-3\")\n",
        "\n",
        "# Create Quantinuum simulator and QPU backends\n",
        "Quantinuum_simulator_backend = provider.get_backend(\"quantinuum.sim.h1-2sc\")\n",
        "Quantinuum_qpu_backend = provider.get_backend(\"quantinuum.qpu.h1-2\")\n",
        "\n",
        "# Create QASM simulator\n",
        "AER_backend = Aer.get_backend('qasm_simulator')"
      ],
      "metadata": {
        "id": "M5ZsU8qupUJi"
      },
      "id": "M5ZsU8qupUJi",
      "execution_count": null,
      "outputs": []
    },
    {
      "cell_type": "code",
      "source": [
        "import os\n",
        "!wget https://aq5efd7d2644dd406cb3ec2d.blob.core.windows.net/dga/BotnetDgaDataset_1000.csv\n",
        "files = os.listdir(os.curdir)\n",
        "for file in files:\n",
        "    print(file)"
      ],
      "outputs": [
        {
          "output_type": "stream",
          "name": "stdout",
          "text": [
            "--2023-08-16 17:20:05--  https://aq5efd7d2644dd406cb3ec2d.blob.core.windows.net/dga/BotnetDgaDataset_1000.csv\n",
            "Resolving aq5efd7d2644dd406cb3ec2d.blob.core.windows.net (aq5efd7d2644dd406cb3ec2d.blob.core.windows.net)... 52.239.169.4\n",
            "Connecting to aq5efd7d2644dd406cb3ec2d.blob.core.windows.net (aq5efd7d2644dd406cb3ec2d.blob.core.windows.net)|52.239.169.4|:443... connected.\n",
            "HTTP request sent, awaiting response... 200 OK\n",
            "Length: 75901 (74K) [text/csv]\n",
            "Saving to: ‘BotnetDgaDataset_1000.csv’\n",
            "\n",
            "BotnetDgaDataset_10 100%[===================>]  74.12K   439KB/s    in 0.2s    \n",
            "\n",
            "2023-08-16 17:20:06 (439 KB/s) - ‘BotnetDgaDataset_1000.csv’ saved [75901/75901]\n",
            "\n",
            ".config\n",
            "BotnetDgaDataset_1000.csv\n",
            "sample_data\n"
          ]
        }
      ],
      "execution_count": null,
      "metadata": {
        "jupyter": {
          "source_hidden": false,
          "outputs_hidden": false
        },
        "nteract": {
          "transient": {
            "deleting": false
          }
        },
        "colab": {
          "base_uri": "https://localhost:8080/"
        },
        "id": "3362235b-385e-413a-b646-caf32971e5a4",
        "outputId": "f4f2846d-4f86-4caa-a2d8-5a635a648ca8"
      },
      "id": "3362235b-385e-413a-b646-caf32971e5a4"
    },
    {
      "cell_type": "code",
      "source": [
        "import csv\n",
        "import os\n",
        "import numpy as np\n",
        "from sklearn.datasets import make_blobs\n",
        "datafilename=\"BotnetDgaDataset_1000.csv\"\n",
        "resultname=\"result_BotnetDgaDataset_pegasos_1000.txt\"\n",
        "cwd=os.getcwd()\n",
        "mycsv=cwd+\"/\"+datafilename\n",
        "print(mycsv)\n",
        "def load_data(filepath):\n",
        "    with open(filepath) as csv_file:\n",
        "        data_file = csv.reader(csv_file)\n",
        "        temp = next(data_file)\n",
        "        n_samples = 1000\n",
        "        n_features = 7\n",
        "        data = np.empty((n_samples, n_features))\n",
        "        target = np.empty((n_samples,), dtype=int)\n",
        "\n",
        "        for i, ir in enumerate(data_file):\n",
        "            data[i] = np.asarray(ir[:-1], dtype=np.float64)\n",
        "            target[i] = np.asarray(ir[-1], dtype=int)\n",
        "\n",
        "    return data, target\n",
        "features, labels = load_data(mycsv)"
      ],
      "outputs": [
        {
          "output_type": "stream",
          "name": "stdout",
          "text": [
            "/content/BotnetDgaDataset_1000.csv\n"
          ]
        }
      ],
      "execution_count": null,
      "metadata": {
        "colab": {
          "base_uri": "https://localhost:8080/"
        },
        "id": "impressed-laser",
        "outputId": "38080aa4-ea27-401b-f3ca-ce5476726fc9"
      },
      "id": "impressed-laser"
    },
    {
      "cell_type": "code",
      "source": [
        "import qiskit.tools.jupyter\n",
        "\n",
        "%qiskit_version_table"
      ],
      "metadata": {
        "colab": {
          "base_uri": "https://localhost:8080/",
          "height": 295
        },
        "id": "HJcbmiNAW-9z",
        "outputId": "dc24a414-3e89-4513-f8c3-2a7408969f14"
      },
      "id": "HJcbmiNAW-9z",
      "execution_count": null,
      "outputs": [
        {
          "output_type": "display_data",
          "data": {
            "text/plain": [
              "<IPython.core.display.HTML object>"
            ],
            "text/html": [
              "<h3>Version Information</h3><table><tr><th>Software</th><th>Version</th></tr><tr><td><code>qiskit</code></td><td>None</td></tr><tr><td><code>qiskit-terra</code></td><td>0.25.0</td></tr><tr><th colspan='2'>System information</th></tr><tr><td>Python version</td><td>3.10.12</td></tr><tr><td>Python compiler</td><td>GCC 11.4.0</td></tr><tr><td>Python build</td><td>main, Jun 11 2023 05:26:28</td></tr><tr><td>OS</td><td>Linux</td></tr><tr><td>CPUs</td><td>2</td></tr><tr><td>Memory (Gb)</td><td>25.45136260986328</td></tr><tr><td colspan='2'>Wed Aug 16 17:21:37 2023 UTC</td></tr></table>"
            ]
          },
          "metadata": {}
        }
      ]
    },
    {
      "cell_type": "code",
      "source": [
        "import numpy as np\n",
        "\n",
        "from sklearn.model_selection import train_test_split\n",
        "from sklearn.preprocessing import MinMaxScaler\n",
        "\n",
        "features = MinMaxScaler(feature_range=(0, np.pi)).fit_transform(features)\n",
        "\n",
        "train_features, test_features, train_labels, test_labels = train_test_split(\n",
        "    features, labels, train_size=700, shuffle=False\n",
        ")\n"
      ],
      "outputs": [],
      "execution_count": null,
      "metadata": {
        "id": "adolescent-composer"
      },
      "id": "adolescent-composer"
    },
    {
      "cell_type": "code",
      "source": [
        "from qiskit import BasicAer\n",
        "from qiskit.circuit.library import ZFeatureMap\n",
        "from qiskit.utils import algorithm_globals\n",
        "\n",
        "from qiskit_machine_learning.kernels import FidelityQuantumKernel\n",
        "num_qubits = 7\n",
        "algorithm_globals.random_seed = 12345\n",
        "\n",
        "feature_map = ZFeatureMap(feature_dimension=num_qubits, reps=1)\n",
        "\n",
        "qkernel = FidelityQuantumKernel(feature_map=feature_map)"
      ],
      "outputs": [],
      "execution_count": null,
      "metadata": {
        "id": "automated-allergy"
      },
      "id": "automated-allergy"
    },
    {
      "cell_type": "code",
      "source": [
        "from qiskit_machine_learning.algorithms import QSVC\n",
        "import time\n",
        "from qiskit.algorithms.optimizers import SLSQP, SPSA\n",
        "from qiskit.circuit.library import ZFeatureMap\n",
        "\n",
        "num_features = features.shape[1]\n",
        "\n",
        "feature_map = ZFeatureMap(feature_dimension=num_features, reps=1)\n",
        "qsvc = QSVC(quantum_kernel=qkernel)\n",
        "\n",
        "\n",
        "import time\n",
        "QSVC_start=time.perf_counter()\n",
        "# training\n",
        "qsvc.fit(train_features, train_labels)\n",
        "\n",
        "# testing\n",
        "qsvc_score = qsvc.score(test_features, test_labels)\n",
        "QSVC_end=time.perf_counter()\n",
        "\n",
        "print(f\"QSVC Accuracy: {qsvc_score}\")\n",
        "print(QSVC_end-QSVC_start)"
      ],
      "metadata": {
        "colab": {
          "base_uri": "https://localhost:8080/"
        },
        "id": "iZrTR3JzPqhH",
        "outputId": "85491677-312a-4ebc-eff2-9201a87c5e4f"
      },
      "id": "iZrTR3JzPqhH",
      "execution_count": null,
      "outputs": [
        {
          "output_type": "stream",
          "name": "stdout",
          "text": [
            "QSVC Accuracy: 0.8633333333333333\n",
            "3772.9200665050002\n"
          ]
        }
      ]
    }
  ],
  "metadata": {
    "celltoolbar": "Tags",
    "kernelspec": {
      "name": "python3",
      "language": "python",
      "display_name": "Python 3 (ipykernel)"
    },
    "language_info": {
      "name": "python",
      "version": "3.9.15",
      "mimetype": "text/x-python",
      "codemirror_mode": {
        "name": "ipython",
        "version": 3
      },
      "pygments_lexer": "ipython3",
      "nbconvert_exporter": "python",
      "file_extension": ".py"
    },
    "kernel_info": {
      "name": "python3"
    },
    "nteract": {
      "version": "nteract-front-end@1.0.0"
    },
    "colab": {
      "provenance": [],
      "machine_shape": "hm",
      "gpuClass": "premium"
    },
    "gpuClass": "premium",
    "accelerator": "GPU"
  },
  "nbformat": 4,
  "nbformat_minor": 5
}